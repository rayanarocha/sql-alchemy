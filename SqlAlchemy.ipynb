{
 "cells": [
  {
   "cell_type": "code",
   "execution_count": 1,
   "id": "6c372d33",
   "metadata": {},
   "outputs": [
    {
     "name": "stdout",
     "output_type": "stream",
     "text": [
      "Collecting package metadata (current_repodata.json): ...working... done\n",
      "Solving environment: ...working... done\n",
      "\n",
      "# All requested packages already installed.\n",
      "\n"
     ]
    }
   ],
   "source": [
    "#Duas opções d einstalação do SqlAlchemy\n",
    "#!pip install sqlalchemy\n",
    "!conda install sqlalchemy -y\n",
    "\n",
    "import sqlalchemy"
   ]
  },
  {
   "cell_type": "code",
   "execution_count": 2,
   "id": "417bb0f5",
   "metadata": {},
   "outputs": [
    {
     "data": {
      "text/plain": [
       "'1.4.39'"
      ]
     },
     "execution_count": 2,
     "metadata": {},
     "output_type": "execute_result"
    }
   ],
   "source": [
    "sqlalchemy.__version__"
   ]
  },
  {
   "cell_type": "markdown",
   "id": "ccbecdd6",
   "metadata": {},
   "source": [
    "# Conectando ao Banco de Dados"
   ]
  },
  {
   "cell_type": "code",
   "execution_count": 3,
   "id": "43a20a80",
   "metadata": {},
   "outputs": [],
   "source": [
    "engine = sqlalchemy.create_engine('sqlite:///enterprise.db', echo=True)"
   ]
  },
  {
   "cell_type": "markdown",
   "id": "734bf187",
   "metadata": {},
   "source": [
    "# Declarando o mapeamento"
   ]
  },
  {
   "cell_type": "code",
   "execution_count": 4,
   "id": "9a24e298",
   "metadata": {},
   "outputs": [],
   "source": [
    "from sqlalchemy.orm import declarative_base\n",
    "from sqlalchemy import Column, Integer, String"
   ]
  },
  {
   "cell_type": "code",
   "execution_count": 5,
   "id": "942d0511",
   "metadata": {},
   "outputs": [],
   "source": [
    "Base = declarative_base()"
   ]
  },
  {
   "cell_type": "code",
   "execution_count": 6,
   "id": "a32e2a1d",
   "metadata": {},
   "outputs": [],
   "source": [
    "class User(Base):\n",
    "    __tablename__ = 'users' # informação obrigatória\n",
    "    id = Column(Integer, primary_key=True) #obrigatório\n",
    "    name = Column(String(50))\n",
    "    fullname = Column(String(50))\n",
    "    age = Column(Integer)\n",
    "    \n",
    "    def __repr__(self):\n",
    "        return \"<User(name={}, fullname={}, age={})>\".format(\n",
    "            self.name, self.fullname, self.age)"
   ]
  },
  {
   "cell_type": "markdown",
   "id": "8f504ec3",
   "metadata": {},
   "source": [
    "# Criar tabela no banco de dados"
   ]
  },
  {
   "cell_type": "code",
   "execution_count": 7,
   "id": "5375dd01",
   "metadata": {},
   "outputs": [
    {
     "name": "stdout",
     "output_type": "stream",
     "text": [
      "2022-08-20 17:49:58,467 INFO sqlalchemy.engine.Engine BEGIN (implicit)\n",
      "2022-08-20 17:49:58,468 INFO sqlalchemy.engine.Engine PRAGMA main.table_info(\"users\")\n",
      "2022-08-20 17:49:58,469 INFO sqlalchemy.engine.Engine [raw sql] ()\n",
      "2022-08-20 17:49:58,473 INFO sqlalchemy.engine.Engine PRAGMA temp.table_info(\"users\")\n",
      "2022-08-20 17:49:58,475 INFO sqlalchemy.engine.Engine [raw sql] ()\n",
      "2022-08-20 17:49:58,476 INFO sqlalchemy.engine.Engine \n",
      "CREATE TABLE users (\n",
      "\tid INTEGER NOT NULL, \n",
      "\tname VARCHAR(50), \n",
      "\tfullname VARCHAR(50), \n",
      "\tage INTEGER, \n",
      "\tPRIMARY KEY (id)\n",
      ")\n",
      "\n",
      "\n",
      "2022-08-20 17:49:58,477 INFO sqlalchemy.engine.Engine [no key 0.00066s] ()\n",
      "2022-08-20 17:49:58,522 INFO sqlalchemy.engine.Engine COMMIT\n"
     ]
    }
   ],
   "source": [
    "Base.metadata.create_all(engine)"
   ]
  },
  {
   "cell_type": "markdown",
   "id": "f77aad36",
   "metadata": {},
   "source": [
    "# Criando instâncias da classe"
   ]
  },
  {
   "cell_type": "code",
   "execution_count": 8,
   "id": "56eca6ee",
   "metadata": {},
   "outputs": [],
   "source": [
    "user = User(name='joão', fullname='joão josé', age=20)"
   ]
  },
  {
   "cell_type": "code",
   "execution_count": 9,
   "id": "15ce4f76",
   "metadata": {},
   "outputs": [
    {
     "data": {
      "text/plain": [
       "'joão'"
      ]
     },
     "execution_count": 9,
     "metadata": {},
     "output_type": "execute_result"
    }
   ],
   "source": [
    "user.name"
   ]
  },
  {
   "cell_type": "code",
   "execution_count": 10,
   "id": "9e22d1d6",
   "metadata": {},
   "outputs": [
    {
     "data": {
      "text/plain": [
       "'joão josé'"
      ]
     },
     "execution_count": 10,
     "metadata": {},
     "output_type": "execute_result"
    }
   ],
   "source": [
    "user.fullname"
   ]
  },
  {
   "cell_type": "markdown",
   "id": "817b6a4b",
   "metadata": {},
   "source": [
    "# Criando uma sessão"
   ]
  },
  {
   "cell_type": "code",
   "execution_count": 11,
   "id": "71691f82",
   "metadata": {},
   "outputs": [],
   "source": [
    "from sqlalchemy.orm import sessionmaker"
   ]
  },
  {
   "cell_type": "code",
   "execution_count": 12,
   "id": "5a7c2b10",
   "metadata": {},
   "outputs": [
    {
     "data": {
      "text/plain": [
       "sessionmaker(class_='Session', bind=Engine(sqlite:///enterprise.db), autoflush=True, autocommit=False, expire_on_commit=True)"
      ]
     },
     "execution_count": 12,
     "metadata": {},
     "output_type": "execute_result"
    }
   ],
   "source": [
    "Session = sessionmaker(bind=engine)\n",
    "Session"
   ]
  },
  {
   "cell_type": "code",
   "execution_count": 13,
   "id": "eed0802c",
   "metadata": {},
   "outputs": [],
   "source": [
    "session = Session()"
   ]
  },
  {
   "cell_type": "markdown",
   "id": "23306d1b",
   "metadata": {},
   "source": [
    "# Adicionando objetos (INSERT)"
   ]
  },
  {
   "cell_type": "code",
   "execution_count": 14,
   "id": "03946514",
   "metadata": {},
   "outputs": [],
   "source": [
    "session.add(user)"
   ]
  },
  {
   "cell_type": "code",
   "execution_count": 15,
   "id": "2a32ccaa",
   "metadata": {},
   "outputs": [
    {
     "name": "stdout",
     "output_type": "stream",
     "text": [
      "2022-08-20 17:49:58,719 INFO sqlalchemy.engine.Engine BEGIN (implicit)\n",
      "2022-08-20 17:49:58,723 INFO sqlalchemy.engine.Engine INSERT INTO users (name, fullname, age) VALUES (?, ?, ?)\n",
      "2022-08-20 17:49:58,724 INFO sqlalchemy.engine.Engine [generated in 0.00104s] ('joão', 'joão josé', 20)\n",
      "2022-08-20 17:49:58,732 INFO sqlalchemy.engine.Engine COMMIT\n"
     ]
    }
   ],
   "source": [
    "session.commit()"
   ]
  },
  {
   "cell_type": "code",
   "execution_count": 16,
   "id": "7e07fd50",
   "metadata": {},
   "outputs": [],
   "source": [
    "session.add_all([\n",
    "    User(name='isabela', fullname='maria isabela', age=22),\n",
    "    User(name='pedro', fullname='joão pedro', age=22),\n",
    "])"
   ]
  },
  {
   "cell_type": "code",
   "execution_count": 19,
   "id": "24351067",
   "metadata": {},
   "outputs": [
    {
     "data": {
      "text/plain": [
       "IdentitySet([<User(name=isabela, fullname=maria isabela, age=22)>, <User(name=pedro, fullname=joão pedro, age=22)>])"
      ]
     },
     "execution_count": 19,
     "metadata": {},
     "output_type": "execute_result"
    }
   ],
   "source": [
    "session.new"
   ]
  },
  {
   "cell_type": "code",
   "execution_count": 21,
   "id": "8a0ea5d0",
   "metadata": {},
   "outputs": [],
   "source": [
    "session.commit()"
   ]
  },
  {
   "cell_type": "markdown",
   "id": "3219cc0f",
   "metadata": {},
   "source": [
    "# Consultar objetos"
   ]
  },
  {
   "cell_type": "code",
   "execution_count": 23,
   "id": "cfed0ab2",
   "metadata": {},
   "outputs": [
    {
     "name": "stdout",
     "output_type": "stream",
     "text": [
      "2022-08-21 11:35:32,170 INFO sqlalchemy.engine.Engine SELECT users.id AS users_id, users.name AS users_name, users.fullname AS users_fullname, users.age AS users_age \n",
      "FROM users \n",
      "WHERE users.name = ?\n",
      " LIMIT ? OFFSET ?\n",
      "2022-08-21 11:35:32,172 INFO sqlalchemy.engine.Engine [cached since 51.53s ago] ('joão', 1, 0)\n"
     ]
    }
   ],
   "source": [
    "query_user = session.query(User).filter_by(name='joão').first()"
   ]
  },
  {
   "cell_type": "code",
   "execution_count": 24,
   "id": "b2cd1565",
   "metadata": {},
   "outputs": [
    {
     "data": {
      "text/plain": [
       "'joão josé'"
      ]
     },
     "execution_count": 24,
     "metadata": {},
     "output_type": "execute_result"
    }
   ],
   "source": [
    "query_user.fullname"
   ]
  }
 ],
 "metadata": {
  "kernelspec": {
   "display_name": "Python 3 (ipykernel)",
   "language": "python",
   "name": "python3"
  },
  "language_info": {
   "codemirror_mode": {
    "name": "ipython",
    "version": 3
   },
   "file_extension": ".py",
   "mimetype": "text/x-python",
   "name": "python",
   "nbconvert_exporter": "python",
   "pygments_lexer": "ipython3",
   "version": "3.9.12"
  }
 },
 "nbformat": 4,
 "nbformat_minor": 5
}
