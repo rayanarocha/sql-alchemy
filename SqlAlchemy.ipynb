{
 "cells": [
  {
   "cell_type": "code",
   "execution_count": 4,
   "id": "670ea86e",
   "metadata": {},
   "outputs": [
    {
     "name": "stdout",
     "output_type": "stream",
     "text": [
      "Collecting package metadata (current_repodata.json): ...working... done\n",
      "Solving environment: ...working... done\n",
      "\n",
      "# All requested packages already installed.\n",
      "\n"
     ]
    }
   ],
   "source": [
    "#Duas opções d einstalação do SqlAlchemy\n",
    "#!pip install sqlalchemy\n",
    "!conda install sqlalchemy -y\n",
    "\n",
    "import sqlalchemy"
   ]
  },
  {
   "cell_type": "code",
   "execution_count": 3,
   "id": "425d5270",
   "metadata": {},
   "outputs": [
    {
     "data": {
      "text/plain": [
       "'1.4.39'"
      ]
     },
     "execution_count": 3,
     "metadata": {},
     "output_type": "execute_result"
    }
   ],
   "source": [
    "sqlalchemy.__version__"
   ]
  },
  {
   "cell_type": "markdown",
   "id": "0c4bd539",
   "metadata": {},
   "source": [
    "# Conectando ao Banco de Dados"
   ]
  },
  {
   "cell_type": "code",
   "execution_count": 5,
   "id": "ee2486ab",
   "metadata": {},
   "outputs": [],
   "source": [
    "engine = sqlalchemy.create_engine('sqlite:///enterprise.db', echo=True)"
   ]
  },
  {
   "cell_type": "markdown",
   "id": "d1975f3e",
   "metadata": {},
   "source": [
    "# Declarando o mapeamento"
   ]
  },
  {
   "cell_type": "code",
   "execution_count": 12,
   "id": "932f7212",
   "metadata": {},
   "outputs": [],
   "source": [
    "from sqlalchemy.orm import declarative_base\n",
    "from sqlalchemy import Column, Integer, String"
   ]
  },
  {
   "cell_type": "code",
   "execution_count": 14,
   "id": "08cbaffa",
   "metadata": {},
   "outputs": [],
   "source": [
    "Base = declarative_base()"
   ]
  },
  {
   "cell_type": "code",
   "execution_count": 15,
   "id": "f15df4c5",
   "metadata": {},
   "outputs": [
    {
     "ename": "SyntaxError",
     "evalue": "invalid syntax (479003317.py, line 3)",
     "output_type": "error",
     "traceback": [
      "\u001b[1;36m  Input \u001b[1;32mIn [15]\u001b[1;36m\u001b[0m\n\u001b[1;33m    id = Column(Integer, primary_key=True) obrigatório\u001b[0m\n\u001b[1;37m                                           ^\u001b[0m\n\u001b[1;31mSyntaxError\u001b[0m\u001b[1;31m:\u001b[0m invalid syntax\n"
     ]
    }
   ],
   "source": [
    "class User(Base):\n",
    "    __tablename__ = 'users' # informação obrigatória\n",
    "    id = Column(Integer, primary_key=True) obrigatório\n",
    "    name = Column(String(50))\n",
    "    fullname = Column(String(50))\n",
    "    age = Column(Integer)"
   ]
  }
 ],
 "metadata": {
  "kernelspec": {
   "display_name": "Python 3 (ipykernel)",
   "language": "python",
   "name": "python3"
  },
  "language_info": {
   "codemirror_mode": {
    "name": "ipython",
    "version": 3
   },
   "file_extension": ".py",
   "mimetype": "text/x-python",
   "name": "python",
   "nbconvert_exporter": "python",
   "pygments_lexer": "ipython3",
   "version": "3.9.12"
  }
 },
 "nbformat": 4,
 "nbformat_minor": 5
}
